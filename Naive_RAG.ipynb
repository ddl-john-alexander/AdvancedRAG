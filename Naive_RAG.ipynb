{
 "cells": [
  {
   "cell_type": "code",
   "execution_count": 1,
   "metadata": {
    "tags": []
   },
   "outputs": [
    {
     "name": "stderr",
     "output_type": "stream",
     "text": [
      "/usr/local/lib/python3.10/dist-packages/pinecone/index.py:4: TqdmExperimentalWarning: Using `tqdm.autonotebook.tqdm` in notebook mode. Use `tqdm.tqdm` instead to force console mode (e.g. in jupyter console)\n",
      "  from tqdm.autonotebook import tqdm\n",
      "/usr/local/lib/python3.10/dist-packages/pydantic/_internal/_config.py:317: UserWarning: Valid config keys have changed in V2:\n",
      "* 'schema_extra' has been renamed to 'json_schema_extra'\n",
      "  warnings.warn(message, UserWarning)\n"
     ]
    }
   ],
   "source": [
    "from domino_data.vectordb import DominoPineconeConfiguration\n",
    "from langchain.chains import RetrievalQA\n",
    "from langchain.embeddings import HuggingFaceBgeEmbeddings\n",
    "from langchain.vectorstores import Pinecone\n",
    "from langchain import PromptTemplate\n",
    "from langchain_community.chat_models import ChatMlflow\n",
    "\n",
    "import csv\n",
    "import os\n",
    "import pinecone\n",
    "import sys\n",
    "\n",
    "from mlflow.deployments import get_deploy_client\n",
    "import os\n",
    "\n",
    "client = get_deploy_client(os.environ['DOMINO_MLFLOW_DEPLOYMENTS'])"
   ]
  },
  {
   "cell_type": "code",
   "execution_count": 2,
   "metadata": {
    "tags": []
   },
   "outputs": [],
   "source": [
    "# Load the embedding model\n",
    "model_kwargs = {'device': 'cpu'}\n",
    "encode_kwargs = {'normalize_embeddings': True}\n",
    "embedding_model_name = \"BAAI/bge-small-en\"\n",
    "os.environ['SENTENCE_TRANSFORMERS_HOME'] = './model_cache/'\n",
    "embeddings = HuggingFaceBgeEmbeddings(model_name=embedding_model_name,\n",
    "                                      model_kwargs=model_kwargs,\n",
    "                                      encode_kwargs=encode_kwargs\n",
    "                                     )"
   ]
  },
  {
   "cell_type": "code",
   "execution_count": 3,
   "metadata": {
    "tags": []
   },
   "outputs": [],
   "source": [
    "PINECONE_ENV=\"gcp-starter\""
   ]
  },
  {
   "cell_type": "code",
   "execution_count": 4,
   "metadata": {
    "tags": []
   },
   "outputs": [
    {
     "name": "stderr",
     "output_type": "stream",
     "text": [
      "/usr/local/lib/python3.10/dist-packages/langchain_core/_api/deprecation.py:117: LangChainDeprecationWarning: The class `langchain_community.vectorstores.pinecone.Pinecone` was deprecated in langchain-community 0.0.18 and will be removed in 0.2.0. An updated version of the class exists in the langchain-pinecone package and should be used instead. To use it run `pip install -U langchain-pinecone` and import as `from langchain_pinecone import Pinecone`.\n",
      "  warn_deprecated(\n",
      "/usr/local/lib/python3.10/dist-packages/langchain_community/vectorstores/pinecone.py:68: UserWarning: Passing in `embedding` as a Callable is deprecated. Please pass in an Embeddings object instead.\n",
      "  warnings.warn(\n"
     ]
    }
   ],
   "source": [
    "# Domino Pinecone Data Source name \n",
    "datasource_name = \"mrag-fin-docs-ja\"\n",
    "\n",
    "# Load Domino Pinecone Data Source Configuration \n",
    "conf = DominoPineconeConfiguration(datasource=datasource_name)\n",
    "\n",
    "# api_key variable is a mandatory non-empty field used for \n",
    "# the native pinecone python client initialization \n",
    "# using Pinecone Data Source name \n",
    "api_key = os.environ.get(\"DOMINO_VECTOR_DB_METADATA\", datasource_name)\n",
    "\n",
    "# initialize pinecone\n",
    "pinecone.init(\n",
    "    api_key=api_key, \n",
    "    environment=PINECONE_ENV,\n",
    "    openapi_config=conf # Domino Pinecone Data Source Configuration \n",
    ")\n",
    "\n",
    "# Load Pinecone Index\n",
    "index_name = \"mrag-fin-docs\"\n",
    "index = pinecone.Index(index_name)\n",
    "text_field = \"text\"\n",
    "\n",
    "# switch back to normal index for langchain\n",
    "vectorstore = Pinecone(\n",
    "    index, embeddings.embed_query, text_field # Using embedded data from Domino AI Gateway Endpoint\n",
    ")"
   ]
  },
  {
   "cell_type": "code",
   "execution_count": 5,
   "metadata": {
    "tags": []
   },
   "outputs": [
    {
     "data": {
      "text/plain": [
       "{'dimension': 384,\n",
       " 'index_fullness': 0.00419,\n",
       " 'namespaces': {'': {'vector_count': 419}},\n",
       " 'total_vector_count': 419}"
      ]
     },
     "execution_count": 5,
     "metadata": {},
     "output_type": "execute_result"
    }
   ],
   "source": [
    "index.describe_index_stats()"
   ]
  },
  {
   "cell_type": "code",
   "execution_count": 6,
   "metadata": {
    "tags": []
   },
   "outputs": [],
   "source": [
    "\n",
    "prompt_template = \"\"\"You are an AI assistant with expertise in financial analysis, your task is to dissect corporate filings (e.g., 10-K, 10-Q, 8-K reports) of publicly traded companies and provide detailed, accurate responses to the following user question about the company's financial health, market position, and future prospects. \n",
    "When interacting, adhere to the following guidelines:\n",
    "You are given the following extracted parts of a long document and a question. \n",
    "If you don't know the answer, just say \"Hmm, I'm not sure.\" Don't try to make up an answer.\n",
    "If the question is not related to corporate filings analysis, politely inform them that you are tuned to only answer questions pertaining to corporate filings analysis.\n",
    "Your primary objective is to deliver insightful, accurate, and helpful answers that enable users to make informed decisions based on corporate filings analysis. Each response should be tailored to the user's question, enhancing understanding of the company's financial status and strategic direction. pertaining to policy coverage.\n",
    "Question: {question}\n",
    "=========\n",
    "{context}\n",
    "=========\n",
    "Answer in Markdown:\n",
    "\"\"\"\n",
    "PROMPT = PromptTemplate(template=prompt_template, input_variables=[\"question\", \"context\"])\n",
    "#\n",
    "chain_type_kwargs = {\"prompt\": PROMPT}"
   ]
  },
  {
   "cell_type": "code",
   "execution_count": 7,
   "metadata": {
    "tags": []
   },
   "outputs": [],
   "source": [
    "rag_llm = ChatMlflow(\n",
    "        target_uri=os.environ[\"DOMINO_MLFLOW_DEPLOYMENTS\"],\n",
    "        endpoint=\"chat-gpt35turbo-ja\", \n",
    "        temperature=0.0,\n",
    "    )"
   ]
  },
  {
   "cell_type": "code",
   "execution_count": 14,
   "metadata": {
    "tags": []
   },
   "outputs": [],
   "source": [
    "\n",
    "qa_chain = RetrievalQA.from_chain_type(llm=rag_llm, # AI Gateway Endpoint\n",
    "                                       chain_type=\"stuff\",\n",
    "                                       chain_type_kwargs={\"prompt\": PROMPT},\n",
    "                                       retriever=vectorstore.as_retriever(search_kwargs={\"k\": 5}), # Domino Pinecone Data Source\n",
    "                                       return_source_documents=True\n",
    "                                      )"
   ]
  },
  {
   "cell_type": "code",
   "execution_count": 15,
   "metadata": {
    "tags": []
   },
   "outputs": [
    {
     "name": "stdin",
     "output_type": "stream",
     "text": [
      "Please ask your financial question: How much revenue did Apple generate in FY23?\n"
     ]
    }
   ],
   "source": [
    "user_question = input(\"Please ask your financial question:\")\n",
    "result = qa_chain(user_question)"
   ]
  },
  {
   "cell_type": "code",
   "execution_count": 16,
   "metadata": {
    "tags": []
   },
   "outputs": [
    {
     "name": "stdout",
     "output_type": "stream",
     "text": [
      "{'query': 'How much revenue did Apple generate in FY23?', 'result': \"Based on the information provided in the extracted parts of Apple Inc.'s 10-K filing for the fiscal year 2023, the company generated total net sales of $383,285 million in FY23. However, the specific revenue generated by Apple in FY23 is not explicitly mentioned in the extracted data. To accurately determine the exact revenue figure for FY23, you would need to refer to the complete financial statements or the revenue section of the 10-K filing for Apple Inc.\", 'source_documents': [Document(page_content='A reconciliation of the Company’ s segment operating income to the Consolidated Statements of Operations for 2023, 2022 and 2021 is as follows (in millions):\\n2023 2022 2021\\nSegment operating income $ 150,888 $ 152,895 $ 137,006 \\nResearch and development expense (29,915) (26,251) (21,914)\\nOther corporate expenses, net (6,672) (7,207) (6,143)\\nTotal operating income $ 114,301 $ 119,437 $ 108,949 \\n(1)Includes corporate marketing expenses, certain share-based compensation expenses, various nonrecurring charges, and other separately managed general\\nand administrative costs.(1)\\nApple Inc. | 2023 Form 10-K | 47'), Document(page_content='Apple Inc.\\nCONSOLIDA TED ST ATEMENTS OF CASH FLOWS\\n(In millions)\\nYears ended\\nSeptember 30,\\n2023September 24,\\n2022September 25,\\n2021\\nCash, cash equivalents and restricted cash, beginning balances $ 24,977 $ 35,929 $ 39,789 \\nOperating activities:\\nNet income 96,995 99,803 94,680 \\nAdjustments to reconcile net income to cash generated by operating activities:\\nDepreciation and amortization 11,519 11,104 11,284 \\nShare-based compensation expense 10,833 9,038 7,906 \\nOther (2,227) 1,006 (4,921)\\nChanges in operating assets and liabilities:\\nAccounts receivable, net (1,688) (1,823) (10,125)\\nVendor non-trade receivables 1,271 (7,520) (3,903)\\nInventories (1,618) 1,484 (2,642)\\nOther current and non-current assets (5,684) (6,499) (8,042)'), Document(page_content='Apple Inc.\\nCONSOLIDA TED ST ATEMENTS OF OPERA TIONS\\n(In millions, except number of shares, which are reflected in thousands, and per-share amounts)\\nYears ended\\nSeptember 30,\\n2023September 24,\\n2022September 25,\\n2021\\nNet sales:\\n   Products $ 298,085 $ 316,199 $ 297,392 \\n   Services 85,200 78,129 68,425 \\nTotal net sales 383,285 394,328 365,817 \\nCost of sales:\\n   Products 189,282 201,471 192,266 \\n   Services 24,855 22,075 20,715 \\nTotal cost of sales 214,137 223,546 212,981 \\nGross margin 169,148 170,782 152,836 \\nOperating expenses:\\nResearch and development 29,915 26,251 21,914 \\nSelling, general and administrative 24,932 25,094 21,973 \\nTotal operating expenses 54,847 51,345 43,887 \\nOperating income 114,301 119,437 108,949'), Document(page_content='Apple Inc. | 2023 Form 10-K | 13'), Document(page_content='The following table shows the detail of other income/(expense), net for 2023, 2022 and 2021 (in millions):\\n2023 2022 2021\\nInterest and dividend income $ 3,750 $ 2,825 $ 2,843 \\nInterest expense (3,933) (2,931) (2,645)\\nOther income/(expense), net (382) (228) 60 \\nTotal other income/(expense), net $ (565) $ (334) $ 258 \\nApple Inc. | 2023 Form 10-K | 39')]}\n"
     ]
    }
   ],
   "source": [
    "print(result)"
   ]
  },
  {
   "cell_type": "code",
   "execution_count": null,
   "metadata": {},
   "outputs": [],
   "source": []
  }
 ],
 "metadata": {
  "kernelspec": {
   "display_name": "Python 3 (ipykernel)",
   "language": "python",
   "name": "python3"
  },
  "language_info": {
   "codemirror_mode": {
    "name": "ipython",
    "version": 3
   },
   "file_extension": ".py",
   "mimetype": "text/x-python",
   "name": "python",
   "nbconvert_exporter": "python",
   "pygments_lexer": "ipython3",
   "version": "3.10.12"
  }
 },
 "nbformat": 4,
 "nbformat_minor": 4
}
