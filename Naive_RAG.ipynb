{
 "cells": [
  {
   "cell_type": "code",
   "execution_count": 2,
   "metadata": {
    "tags": []
   },
   "outputs": [],
   "source": [
    "from langchain.chains import RetrievalQA\n",
    "from langchain_community.embeddings import MlflowEmbeddings\n",
    "from langchain_pinecone import PineconeVectorStore\n",
    "from domino_data.vectordb import domino_pinecone3x_init_params, domino_pinecone3x_index_paramsfrom langchain import PromptTemplate\n",
    "from langchain_community.chat_models import ChatMlflow\n",
    "\n",
    "import csv\n",
    "import os\n",
    "from pinecone import Pinecone\n",
    "import sys\n",
    "\n",
    "from mlflow.deployments import get_deploy_client\n",
    "import os\n",
    "\n",
    "import warnings\n",
    "warnings.filterwarnings('ignore')"
   ]
  },
  {
   "cell_type": "code",
   "execution_count": 3,
   "metadata": {
    "tags": []
   },
   "outputs": [],
   "source": [
    "\n",
    "client = get_deploy_client(os.environ['DOMINO_MLFLOW_DEPLOYMENTS'])"
   ]
  },
  {
   "cell_type": "code",
   "execution_count": 4,
   "metadata": {
    "tags": []
   },
   "outputs": [],
   "source": [
    "# initialize embedding\n",
    "embeddings = MlflowEmbeddings(\n",
    "    target_uri=os.environ[\"DOMINO_MLFLOW_DEPLOYMENTS\"],\n",
    "    endpoint=\"embedding-ada-002ja2\"\n",
    ")"
   ]
  },
  {
   "cell_type": "code",
   "execution_count": 5,
   "metadata": {
    "tags": []
   },
   "outputs": [],
   "source": [
    "#Domino Vector Data Source name\n",
    "datasource_name = \"mrag-fin-docs-ja\"\n",
    "# Load Domino Pinecone Data Source Configuration \n",
    "pc = Pinecone(**domino_pinecone3x_init_params(datasource_name))\n",
    "\n",
    "\n",
    "# Load Pinecone Index\n",
    "index_name = \"mrag-fin-docs\"\n",
    "index = pc.Index(**domino_pinecone3x_index_params(datasource_name, index_name))\n",
    "text_field = \"text\"  # switch back to normal index for langchain\n",
    "vectorstore = PineconeVectorStore(  \n",
    "    index, embeddings, text_field   # Using embedded data from Domino AI Gateway Endpoint\n",
    ")"
   ]
  },
  {
   "cell_type": "code",
   "execution_count": 6,
   "metadata": {
    "tags": []
   },
   "outputs": [
    {
     "data": {
      "text/plain": [
       "{'dimension': 1536,\n",
       " 'index_fullness': 0.00361,\n",
       " 'namespaces': {'': {'vector_count': 361}},\n",
       " 'total_vector_count': 361}"
      ]
     },
     "execution_count": 6,
     "metadata": {},
     "output_type": "execute_result"
    }
   ],
   "source": [
    "index.describe_index_stats()"
   ]
  },
  {
   "cell_type": "code",
   "execution_count": 7,
   "metadata": {
    "tags": []
   },
   "outputs": [],
   "source": [
    "\n",
    "prompt_template = \"\"\"You are an AI assistant with expertise in financial analysis. You are given the following extracted parts and a question. \n",
    "Question: {question}\n",
    "=========\n",
    "{context}\n",
    "=========\n",
    "Answer in Markdown:\n",
    "\"\"\"\n",
    "PROMPT = PromptTemplate(template=prompt_template, input_variables=[\"question\", \"context\"])\n",
    "#\n",
    "chain_type_kwargs = {\"prompt\": PROMPT}"
   ]
  },
  {
   "cell_type": "code",
   "execution_count": 8,
   "metadata": {
    "tags": []
   },
   "outputs": [],
   "source": [
    "rag_llm = ChatMlflow(\n",
    "        target_uri=os.environ[\"DOMINO_MLFLOW_DEPLOYMENTS\"],\n",
    "        endpoint=\"chat-gpt35turbo-ja\", \n",
    "        temperature=0.0,\n",
    "    )"
   ]
  },
  {
   "cell_type": "code",
   "execution_count": 9,
   "metadata": {
    "tags": []
   },
   "outputs": [],
   "source": [
    "\n",
    "qa_chain = RetrievalQA.from_chain_type(llm=rag_llm, # AI Gateway Endpoint\n",
    "                                       chain_type=\"stuff\",\n",
    "                                       chain_type_kwargs={\"prompt\": PROMPT},\n",
    "                                       retriever=vectorstore.as_retriever(search_kwargs={\"k\": 20}), # Domino Pinecone Data Source\n",
    "                                       return_source_documents=True\n",
    "                                      )"
   ]
  },
  {
   "cell_type": "code",
   "execution_count": 10,
   "metadata": {
    "tags": []
   },
   "outputs": [
    {
     "name": "stdin",
     "output_type": "stream",
     "text": [
      "Please ask your financial question: What was the gross income amount and percentage as share of total revenues in FY23\n"
     ]
    }
   ],
   "source": [
    "user_question = input(\"Please ask your financial question:\")\n",
    "result = qa_chain(user_question)"
   ]
  },
  {
   "cell_type": "code",
   "execution_count": 11,
   "metadata": {
    "tags": []
   },
   "outputs": [
    {
     "data": {
      "text/plain": [
       "'To calculate the gross income amount and percentage as a share of total revenues in FY23, we need to use the information provided in the \"CONSOLIDATED STATEMENTS OF OPERATIONS\" section.\\n\\nFrom the \"CONSOLIDATED STATEMENTS OF OPERATIONS\" for the year ended September 30, 2023:\\n- Total net sales: $383,285 million\\n- Gross margin: $169,148 million\\n\\nGross income amount = Total net sales - Gross margin\\nGross income amount = $383,285 million - $169,148 million\\nGross income amount = $214,137 million\\n\\nGross income percentage as a share of total revenues = (Gross income amount / Total net sales) * 100\\nGross income percentage = ($214,137 million / $383,285 million) * 100\\nGross income percentage = 55.9%\\n\\nTherefore, in FY23, the gross income amount was $214,137 million and the gross income percentage as a share of total revenues was 55.9%.'"
      ]
     },
     "execution_count": 11,
     "metadata": {},
     "output_type": "execute_result"
    }
   ],
   "source": [
    "result['result']"
   ]
  },
  {
   "cell_type": "code",
   "execution_count": 14,
   "metadata": {
    "tags": []
   },
   "outputs": [
    {
     "name": "stdout",
     "output_type": "stream",
     "text": [
      "{'query': 'How much revenue did the Americas generate in FY23?', 'result': 'To determine the revenue generated by the Americas in FY23, we can refer to the provided information from the segment operating performance section of the document. \\n\\nIn FY23, the net sales generated by the Americas segment were $162,560 million. This represented a 4% decrease from the previous year (FY22) when the net sales were $169,658 million. \\n\\nTherefore, the revenue generated by the Americas in FY23 was $162,560 million.', 'source_documents': [Document(page_content='Segment Operating Performance\\nThe following table shows net sales by reportable segment for 2023, 2022 and 2021 (dollars in millions):\\n2023 Change 2022 Change 2021\\nNet sales by reportable segment:\\nAmericas $ 162,560 (4)%$ 169,658 11 %$ 153,306 \\nEurope 94,294 (1)% 95,118 7 % 89,307 \\nGreater China 72,559 (2)% 74,200 9 % 68,366 \\nJapan 24,257 (7)% 25,977 (9)% 28,482 \\nRest of Asia Pacific 29,615 1 % 29,375 11 % 26,356 \\nTotal net sales $ 383,285 (3)%$ 394,328 8 %$ 365,817 \\nAmericas\\nAmericas net sales decreased 4% or $7.1 billion  during 2023 compared to 2022 due to lower net sales of iPhone and Mac, partially offset by higher net sales of\\nServices.\\nEurope\\nEurope net sales decreased 1% or $824 million during 2023 compared to 2022. The weakness in foreign currencies relative to the U.S. dollar accounted for\\nmore than the entire year-over-year decrease in Europe net sales, which consisted primarily of lower net sales of Mac and Wearables, Home and Accessories,'), Document(page_content='Net sales disaggregated by significant products and services for 2023, 2022 and 2021 were as follows (in millions):\\n2023 2022 2021\\niPhone $ 200,583 $ 205,489 $ 191,973 \\nMac 29,357 40,177 35,190 \\niPad 28,300 29,292 31,862 \\nWearables, Home and Accessories 39,845 41,241 38,367 \\nServices 85,200 78,129 68,425 \\nTotal net sales $ 383,285 $ 394,328 $ 365,817 \\n(1)Products net sales include amortization of the deferred value of unspecified software upgrade rights, which are bundled in the sales price of the respective\\nproduct.\\n(2)Services net sales include amortization of the deferred value of services bundled in the sales price of certain products.\\nTotal net sales include $8.2 billion of revenue recognized in 2023 that was included in deferred revenue as of September 24, 2022, $7.5 billion of revenue\\nrecognized in 2022 that was included in deferr ed revenue as of September 25, 2021, and $6.7 billion of revenue recognized in 2021 that was included in\\ndeferred revenue as of September 26, 2020.'), Document(page_content='recognized in 2022 that was included in deferr ed revenue as of September 25, 2021, and $6.7 billion of revenue recognized in 2021 that was included in\\ndeferred revenue as of September 26, 2020.\\nThe Compa ny’s proportion of net sales by disaggregated revenue source was generally consistent for each reportable segment in Note 13, “Segment\\nInformation and Geographic Data” for 2023, 2022 and 2021, except in Greater China, where iPhone revenue represented a moderately higher proportion of net\\nsales.\\nAs of September 30, 2023 and September 24, 2022, the Company had total deferred revenue of $12.1 billion and $12.4 billion, respectively . As of September 30,\\n2023, the Company expects 67% of total deferre d revenue to be realized in less than a year, 25% within one-to-two years, 7% within two-to-three years and 1%\\nin greater than three years.\\nNote 3 – Earnings Per Share'), Document(page_content='The U.S. and China were the only countries that accounted for more than 10% of the Company’ s net sales in 2023, 2022 and 2021. Net sales for 2023, 2022\\nand 2021 and long-lived assets as of September 30, 2023 and September 24, 2022 were as follows (in millions):\\n2023 2022 2021\\nNet sales:\\nU.S. $ 138,573 $ 147,859 $ 133,803 \\nChina 72,559 74,200 68,366 \\nOther countries 172,153 172,269 163,648 \\nTotal net sales $ 383,285 $ 394,328 $ 365,817 \\n2023 2022\\nLong-lived assets:\\nU.S. $ 33,276 $ 31,119 \\nChina 5,778 7,260 \\nOther countries 4,661 3,738 \\nTotal long-lived assets $ 43,715 $ 42,117 \\n(1)China includes Hong Kong and Taiwan. (1)\\n(1)\\nApple Inc. | 2023 Form 10-K | 48'), Document(page_content='Fiscal Period\\nThe Compan y’s fiscal year is the 52- or 53-week period that ends on the last Saturday of September . An additional week is included in the first fiscal quarter\\nevery five or six years to realign the Company’ s fiscal quarters with calendar quarters, which occurred in the first quarter of 2023. The Company’ s fiscal year\\n2023 spanned 53 weeks, whereas fiscal years 2022 and 2021 spanned 52 weeks each.\\nFiscal Year Highlights\\nThe Company’ s total net sales were $383.3 billion and net income was $97.0 billion during 2023.\\nThe Company’ s total net sales decreased 3% or $11.0 billion during 2023 compared to 2022. The weakness in foreign currencies relative to the U.S. dollar\\naccounted for more than the entire year-over-year decrease in total net sales, which consisted primarily of lower net sales of Mac and iPhone, partially offset by\\nhigher net sales of Services.')]}\n"
     ]
    }
   ],
   "source": [
    "print(result)"
   ]
  },
  {
   "cell_type": "code",
   "execution_count": null,
   "metadata": {},
   "outputs": [],
   "source": []
  }
 ],
 "metadata": {
  "kernelspec": {
   "display_name": "Python 3 (ipykernel)",
   "language": "python",
   "name": "python3"
  },
  "language_info": {
   "codemirror_mode": {
    "name": "ipython",
    "version": 3
   },
   "file_extension": ".py",
   "mimetype": "text/x-python",
   "name": "python",
   "nbconvert_exporter": "python",
   "pygments_lexer": "ipython3",
   "version": "3.9.18"
  }
 },
 "nbformat": 4,
 "nbformat_minor": 4
}
