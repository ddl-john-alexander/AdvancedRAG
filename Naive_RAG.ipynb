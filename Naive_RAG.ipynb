{
 "cells": [
  {
   "cell_type": "code",
   "execution_count": 2,
   "metadata": {
    "tags": []
   },
   "outputs": [],
   "source": [
    "from domino_data.vectordb import DominoPineconeConfiguration\n",
    "from langchain.chains import RetrievalQA\n",
    "from langchain_community.embeddings import MlflowEmbeddings\n",
    "from langchain.vectorstores import Pinecone\n",
    "from langchain import PromptTemplate\n",
    "from langchain_community.chat_models import ChatMlflow\n",
    "\n",
    "import csv\n",
    "import os\n",
    "import pinecone\n",
    "import sys\n",
    "\n",
    "from mlflow.deployments import get_deploy_client\n",
    "import os"
   ]
  },
  {
   "cell_type": "code",
   "execution_count": 3,
   "metadata": {
    "tags": []
   },
   "outputs": [],
   "source": [
    "PINECONE_ENV=\"gcp-starter\"\n",
    "client = get_deploy_client(os.environ['DOMINO_MLFLOW_DEPLOYMENTS'])"
   ]
  },
  {
   "cell_type": "code",
   "execution_count": 5,
   "metadata": {
    "tags": []
   },
   "outputs": [],
   "source": [
    "# initialize embedding\n",
    "embeddings = MlflowEmbeddings(\n",
    "    target_uri=os.environ[\"DOMINO_MLFLOW_DEPLOYMENTS\"],\n",
    "    endpoint=\"embedding-ada-002ja2\"\n",
    ")"
   ]
  },
  {
   "cell_type": "code",
   "execution_count": 6,
   "metadata": {
    "tags": []
   },
   "outputs": [
    {
     "name": "stderr",
     "output_type": "stream",
     "text": [
      "/usr/local/lib/python3.10/dist-packages/langchain_core/_api/deprecation.py:117: LangChainDeprecationWarning: The class `langchain_community.vectorstores.pinecone.Pinecone` was deprecated in langchain-community 0.0.18 and will be removed in 0.2.0. An updated version of the class exists in the langchain-pinecone package and should be used instead. To use it run `pip install -U langchain-pinecone` and import as `from langchain_pinecone import Pinecone`.\n",
      "  warn_deprecated(\n",
      "/usr/local/lib/python3.10/dist-packages/langchain_community/vectorstores/pinecone.py:68: UserWarning: Passing in `embedding` as a Callable is deprecated. Please pass in an Embeddings object instead.\n",
      "  warnings.warn(\n"
     ]
    }
   ],
   "source": [
    "# Domino Pinecone Data Source name \n",
    "datasource_name = \"mrag-fin-docs-ja\"\n",
    "\n",
    "# Load Domino Pinecone Data Source Configuration \n",
    "conf = DominoPineconeConfiguration(datasource=datasource_name)\n",
    "\n",
    "# api_key variable is a mandatory non-empty field used for \n",
    "# the native pinecone python client initialization \n",
    "# using Pinecone Data Source name \n",
    "api_key = os.environ.get(\"DOMINO_VECTOR_DB_METADATA\", datasource_name)\n",
    "\n",
    "# initialize pinecone\n",
    "pinecone.init(\n",
    "    api_key=api_key, \n",
    "    environment=PINECONE_ENV,\n",
    "    openapi_config=conf # Domino Pinecone Data Source Configuration \n",
    ")\n",
    "\n",
    "# Load Pinecone Index\n",
    "index_name = \"mrag-fin-docs\"\n",
    "index = pinecone.Index(index_name)\n",
    "text_field = \"text\"\n",
    "\n",
    "# switch back to normal index for langchain\n",
    "vectorstore = Pinecone(\n",
    "    index, embeddings.embed_query, text_field # Using embedded data from Domino AI Gateway Endpoint\n",
    ")"
   ]
  },
  {
   "cell_type": "code",
   "execution_count": 7,
   "metadata": {
    "tags": []
   },
   "outputs": [
    {
     "data": {
      "text/plain": [
       "{'dimension': 1536,\n",
       " 'index_fullness': 0.00361,\n",
       " 'namespaces': {'': {'vector_count': 361}},\n",
       " 'total_vector_count': 361}"
      ]
     },
     "execution_count": 7,
     "metadata": {},
     "output_type": "execute_result"
    }
   ],
   "source": [
    "index.describe_index_stats()"
   ]
  },
  {
   "cell_type": "code",
   "execution_count": 17,
   "metadata": {
    "tags": []
   },
   "outputs": [],
   "source": [
    "\n",
    "prompt_template = \"\"\"You are an AI assistant with expertise in financial analysis. You are given the following extracted parts and a question. \n",
    "Question: {question}\n",
    "=========\n",
    "{context}\n",
    "=========\n",
    "Answer in Markdown:\n",
    "\"\"\"\n",
    "PROMPT = PromptTemplate(template=prompt_template, input_variables=[\"question\", \"context\"])\n",
    "#\n",
    "chain_type_kwargs = {\"prompt\": PROMPT}"
   ]
  },
  {
   "cell_type": "code",
   "execution_count": 18,
   "metadata": {
    "tags": []
   },
   "outputs": [],
   "source": [
    "rag_llm = ChatMlflow(\n",
    "        target_uri=os.environ[\"DOMINO_MLFLOW_DEPLOYMENTS\"],\n",
    "        endpoint=\"chat-gpt35turbo-ja\", \n",
    "        temperature=0.0,\n",
    "    )"
   ]
  },
  {
   "cell_type": "code",
   "execution_count": 19,
   "metadata": {
    "tags": []
   },
   "outputs": [],
   "source": [
    "\n",
    "qa_chain = RetrievalQA.from_chain_type(llm=rag_llm, # AI Gateway Endpoint\n",
    "                                       chain_type=\"stuff\",\n",
    "                                       chain_type_kwargs={\"prompt\": PROMPT},\n",
    "                                       retriever=vectorstore.as_retriever(search_kwargs={\"k\": 20}), # Domino Pinecone Data Source\n",
    "                                       return_source_documents=True\n",
    "                                      )"
   ]
  },
  {
   "cell_type": "code",
   "execution_count": 24,
   "metadata": {
    "tags": []
   },
   "outputs": [
    {
     "name": "stdin",
     "output_type": "stream",
     "text": [
      "Please ask your financial question: Report and analyze the trend in sales for the Americas and US from FY22 and FY23.\n"
     ]
    }
   ],
   "source": [
    "user_question = input(\"Please ask your financial question:\")\n",
    "result = qa_chain(user_question)"
   ]
  },
  {
   "cell_type": "code",
   "execution_count": 25,
   "metadata": {
    "tags": []
   },
   "outputs": [
    {
     "data": {
      "text/plain": [
       "'### Sales Trend Analysis for the Americas and US from FY22 to FY23\\n\\n#### Americas:\\n- Net sales in the Americas decreased by 4% from $169.658 billion in FY22 to $162.560 billion in FY23.\\n- The decrease was primarily due to lower net sales of iPhone and Mac, partially offset by higher net sales of Services.\\n\\n#### US:\\n- Net sales in the US decreased by 6% from $147.859 billion in FY22 to $138.573 billion in FY23.\\n- The decrease was driven by lower net sales of iPhone and Mac.\\n\\n### Analysis:\\n- Both the Americas and US experienced a decline in net sales from FY22 to FY23.\\n- The decrease in net sales in both regions was primarily attributed to lower sales of iPhone and Mac.\\n- The increase in net sales of Services partially offset the decline in net sales of other products.\\n- The weakness in foreign currencies relative to the US dollar also impacted net sales in these regions.\\n\\nOverall, the trend in sales for the Americas and US from FY22 to FY23 was negative, with a decrease in net sales driven by lower sales of iPhone and Mac. The increase in net sales of Services partially offset the decline in net sales of other products. The weakness in foreign currencies also played a role in the decrease in net sales.'"
      ]
     },
     "execution_count": 25,
     "metadata": {},
     "output_type": "execute_result"
    }
   ],
   "source": [
    "result['result']"
   ]
  },
  {
   "cell_type": "code",
   "execution_count": 14,
   "metadata": {
    "tags": []
   },
   "outputs": [
    {
     "name": "stdout",
     "output_type": "stream",
     "text": [
      "{'query': 'How much revenue did the Americas generate in FY23?', 'result': 'To determine the revenue generated by the Americas in FY23, we can refer to the provided information from the segment operating performance section of the document. \\n\\nIn FY23, the net sales generated by the Americas segment were $162,560 million. This represented a 4% decrease from the previous year (FY22) when the net sales were $169,658 million. \\n\\nTherefore, the revenue generated by the Americas in FY23 was $162,560 million.', 'source_documents': [Document(page_content='Segment Operating Performance\\nThe following table shows net sales by reportable segment for 2023, 2022 and 2021 (dollars in millions):\\n2023 Change 2022 Change 2021\\nNet sales by reportable segment:\\nAmericas $ 162,560 (4)%$ 169,658 11 %$ 153,306 \\nEurope 94,294 (1)% 95,118 7 % 89,307 \\nGreater China 72,559 (2)% 74,200 9 % 68,366 \\nJapan 24,257 (7)% 25,977 (9)% 28,482 \\nRest of Asia Pacific 29,615 1 % 29,375 11 % 26,356 \\nTotal net sales $ 383,285 (3)%$ 394,328 8 %$ 365,817 \\nAmericas\\nAmericas net sales decreased 4% or $7.1 billion  during 2023 compared to 2022 due to lower net sales of iPhone and Mac, partially offset by higher net sales of\\nServices.\\nEurope\\nEurope net sales decreased 1% or $824 million during 2023 compared to 2022. The weakness in foreign currencies relative to the U.S. dollar accounted for\\nmore than the entire year-over-year decrease in Europe net sales, which consisted primarily of lower net sales of Mac and Wearables, Home and Accessories,'), Document(page_content='Net sales disaggregated by significant products and services for 2023, 2022 and 2021 were as follows (in millions):\\n2023 2022 2021\\niPhone $ 200,583 $ 205,489 $ 191,973 \\nMac 29,357 40,177 35,190 \\niPad 28,300 29,292 31,862 \\nWearables, Home and Accessories 39,845 41,241 38,367 \\nServices 85,200 78,129 68,425 \\nTotal net sales $ 383,285 $ 394,328 $ 365,817 \\n(1)Products net sales include amortization of the deferred value of unspecified software upgrade rights, which are bundled in the sales price of the respective\\nproduct.\\n(2)Services net sales include amortization of the deferred value of services bundled in the sales price of certain products.\\nTotal net sales include $8.2 billion of revenue recognized in 2023 that was included in deferred revenue as of September 24, 2022, $7.5 billion of revenue\\nrecognized in 2022 that was included in deferr ed revenue as of September 25, 2021, and $6.7 billion of revenue recognized in 2021 that was included in\\ndeferred revenue as of September 26, 2020.'), Document(page_content='recognized in 2022 that was included in deferr ed revenue as of September 25, 2021, and $6.7 billion of revenue recognized in 2021 that was included in\\ndeferred revenue as of September 26, 2020.\\nThe Compa ny’s proportion of net sales by disaggregated revenue source was generally consistent for each reportable segment in Note 13, “Segment\\nInformation and Geographic Data” for 2023, 2022 and 2021, except in Greater China, where iPhone revenue represented a moderately higher proportion of net\\nsales.\\nAs of September 30, 2023 and September 24, 2022, the Company had total deferred revenue of $12.1 billion and $12.4 billion, respectively . As of September 30,\\n2023, the Company expects 67% of total deferre d revenue to be realized in less than a year, 25% within one-to-two years, 7% within two-to-three years and 1%\\nin greater than three years.\\nNote 3 – Earnings Per Share'), Document(page_content='The U.S. and China were the only countries that accounted for more than 10% of the Company’ s net sales in 2023, 2022 and 2021. Net sales for 2023, 2022\\nand 2021 and long-lived assets as of September 30, 2023 and September 24, 2022 were as follows (in millions):\\n2023 2022 2021\\nNet sales:\\nU.S. $ 138,573 $ 147,859 $ 133,803 \\nChina 72,559 74,200 68,366 \\nOther countries 172,153 172,269 163,648 \\nTotal net sales $ 383,285 $ 394,328 $ 365,817 \\n2023 2022\\nLong-lived assets:\\nU.S. $ 33,276 $ 31,119 \\nChina 5,778 7,260 \\nOther countries 4,661 3,738 \\nTotal long-lived assets $ 43,715 $ 42,117 \\n(1)China includes Hong Kong and Taiwan. (1)\\n(1)\\nApple Inc. | 2023 Form 10-K | 48'), Document(page_content='Fiscal Period\\nThe Compan y’s fiscal year is the 52- or 53-week period that ends on the last Saturday of September . An additional week is included in the first fiscal quarter\\nevery five or six years to realign the Company’ s fiscal quarters with calendar quarters, which occurred in the first quarter of 2023. The Company’ s fiscal year\\n2023 spanned 53 weeks, whereas fiscal years 2022 and 2021 spanned 52 weeks each.\\nFiscal Year Highlights\\nThe Company’ s total net sales were $383.3 billion and net income was $97.0 billion during 2023.\\nThe Company’ s total net sales decreased 3% or $11.0 billion during 2023 compared to 2022. The weakness in foreign currencies relative to the U.S. dollar\\naccounted for more than the entire year-over-year decrease in total net sales, which consisted primarily of lower net sales of Mac and iPhone, partially offset by\\nhigher net sales of Services.')]}\n"
     ]
    }
   ],
   "source": [
    "print(result)"
   ]
  },
  {
   "cell_type": "code",
   "execution_count": null,
   "metadata": {},
   "outputs": [],
   "source": []
  }
 ],
 "metadata": {
  "kernelspec": {
   "display_name": "Python 3 (ipykernel)",
   "language": "python",
   "name": "python3"
  },
  "language_info": {
   "codemirror_mode": {
    "name": "ipython",
    "version": 3
   },
   "file_extension": ".py",
   "mimetype": "text/x-python",
   "name": "python",
   "nbconvert_exporter": "python",
   "pygments_lexer": "ipython3",
   "version": "3.10.12"
  }
 },
 "nbformat": 4,
 "nbformat_minor": 4
}
