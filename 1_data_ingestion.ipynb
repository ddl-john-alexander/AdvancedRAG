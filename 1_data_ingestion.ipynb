{
 "cells": [
  {
   "cell_type": "markdown",
   "id": "0325d9fb-1e3f-4be5-a160-56633cd5cb3c",
   "metadata": {},
   "source": [
    "# Process The Data"
   ]
  },
  {
   "cell_type": "markdown",
   "id": "5f6078cd-e540-47b5-b22a-823661bde72b",
   "metadata": {},
   "source": [
    "### Load the needed libraries"
   ]
  },
  {
   "cell_type": "code",
   "execution_count": 1,
   "id": "0feccacf-516e-4ec3-9d76-18e93ec66734",
   "metadata": {
    "tags": []
   },
   "outputs": [
    {
     "name": "stderr",
     "output_type": "stream",
     "text": [
      "/usr/local/lib/python3.10/dist-packages/pinecone/index.py:4: TqdmExperimentalWarning: Using `tqdm.autonotebook.tqdm` in notebook mode. Use `tqdm.tqdm` instead to force console mode (e.g. in jupyter console)\n",
      "  from tqdm.autonotebook import tqdm\n",
      "/usr/local/lib/python3.10/dist-packages/pydantic/_internal/_config.py:317: UserWarning: Valid config keys have changed in V2:\n",
      "* 'schema_extra' has been renamed to 'json_schema_extra'\n",
      "  warnings.warn(message, UserWarning)\n"
     ]
    }
   ],
   "source": [
    "from domino_data.vectordb import DominoPineconeConfiguration\n",
    "from langchain.document_loaders import PyPDFLoader, PyPDFDirectoryLoader\n",
    "from langchain.text_splitter import RecursiveCharacterTextSplitter\n",
    "#from langchain.embeddings import HuggingFaceBgeEmbeddings\n",
    "from langchain_community.embeddings import MlflowEmbeddings\n",
    "from langchain.vectorstores import Pinecone\n",
    "\n",
    "\n",
    "import csv\n",
    "import os\n",
    "import random\n",
    "import pinecone\n",
    "import sys\n",
    "\n",
    "from mlflow.deployments import get_deploy_client\n",
    "import os\n",
    "\n",
    "client = get_deploy_client(os.environ['DOMINO_MLFLOW_DEPLOYMENTS'])"
   ]
  },
  {
   "cell_type": "markdown",
   "id": "5ef752b2-4f3e-4459-931b-6473d416445e",
   "metadata": {},
   "source": [
    "### Set variables"
   ]
  },
  {
   "cell_type": "code",
   "execution_count": 2,
   "id": "36d8cfa1-91a3-43cf-90c1-b9d3a4de2060",
   "metadata": {
    "tags": []
   },
   "outputs": [],
   "source": [
    "texts = []\n",
    "metadata = []\n",
    "chunk_size=1000\n",
    "chunk_overlap=200\n",
    "strip_whitespace = True\n",
    "separators=[\"\\n\\n\", \"\\n\", \".\", \" \", \"\"]\n",
    "PINECONE_ENV=\"domino\""
   ]
  },
  {
   "cell_type": "code",
   "execution_count": 3,
   "id": "054c8a1b-1b14-4259-aeca-46cfe737f15c",
   "metadata": {
    "tags": []
   },
   "outputs": [],
   "source": [
    "embed = MlflowEmbeddings(\n",
    "    target_uri=os.environ[\"DOMINO_MLFLOW_DEPLOYMENTS\"],\n",
    "    endpoint=\"embedding-ada-002ja2\",\n",
    ")"
   ]
  },
  {
   "cell_type": "code",
   "execution_count": 5,
   "id": "bd349d4e-6eeb-44a1-9a78-ef40f32dca28",
   "metadata": {
    "tags": []
   },
   "outputs": [],
   "source": [
    "\n",
    "# Load the document that you need to parse, please change the location to where the pdf resides\n",
    "\n",
    "# Load 1 PDF file\n",
    "loader = PyPDFLoader(\"/mnt/code/data/apple-10K-20230930.pdf\")\n",
    "# or load an entire folder\n",
    "# loader = PyPDFDirectoryLoader(\"/mnt/data/RAG/\")\n",
    "data = loader.load_and_split(RecursiveCharacterTextSplitter(\n",
    "    chunk_size=chunk_size, \n",
    "    chunk_overlap=chunk_overlap,\n",
    "    strip_whitespace=strip_whitespace,\n",
    "    add_start_index = True,))"
   ]
  },
  {
   "cell_type": "code",
   "execution_count": 6,
   "id": "6db0eb8c-3263-4781-94f5-ac2809a0d679",
   "metadata": {
    "tags": []
   },
   "outputs": [
    {
     "name": "stdout",
     "output_type": "stream",
     "text": [
      "There are 361 chunks in the document\n"
     ]
    }
   ],
   "source": [
    "print(f\"There are {len(data)} chunks in the document\")"
   ]
  },
  {
   "cell_type": "code",
   "execution_count": 7,
   "id": "fa11415c-6188-4da2-b988-640b56519533",
   "metadata": {
    "tags": []
   },
   "outputs": [
    {
     "name": "stdout",
     "output_type": "stream",
     "text": [
      "page_content='notes representing the 0.000% Notes due 2025 and 0.500% Notes due 2031.8-K 4.1 11/15/19\\n4.23 Officer’s Certificate of the Registrant, dated as of May 11, 2020, including forms of global notes\\nrepresenting the 0.750% Notes due 2023, 1.125% Notes due 2025, 1.650% Notes due 2030 and\\n2.650% Notes due 2050.8-K 4.1 5/11/20\\n4.24 Officer’s Certificate of the Registrant, dated as of August 20, 2020, including forms of global notes\\nrepresenting the 0.550% Notes due 2025, 1.25% Notes due 2030, 2.400% Notes due 2050 and\\n2.550% Notes due 2060.8-K 4.1 8/20/20\\n4.25 Officer’s Certificate of the Registrant, dated as of February 8, 2021, including forms of global notes\\nrepresenting the 0.700% Notes due 2026, 1.200% Notes due 2028, 1.650% Notes due\\n2031, 2.375% Notes due 2041, 2.650% Notes due 2051 and 2.800% Notes due 2061.8-K 4.1 2/8/21\\n4.26 Officer’s Certificate of the Registrant, dated as of August 5, 2021, including forms of global notes' metadata={'source': '/mnt/code/data/apple-10K-20230930.pdf', 'page': 57, 'start_index': 3042}\n"
     ]
    }
   ],
   "source": [
    "# Pick a sample page for verification\n",
    "print(data[random.randint(0, len(data))])"
   ]
  },
  {
   "cell_type": "markdown",
   "id": "63fea609-c092-45ee-8076-c537e798a57b",
   "metadata": {},
   "source": [
    "create an index on pinecone with name: mrag-fin-docs, 1536"
   ]
  },
  {
   "cell_type": "code",
   "execution_count": 8,
   "id": "1e312688-796b-41fb-8204-d3b59df23185",
   "metadata": {
    "tags": []
   },
   "outputs": [],
   "source": [
    "datasource_name = \"mrag-fin-docs-ja\"\n",
    "conf = DominoPineconeConfiguration(datasource=datasource_name)\n",
    "# The pinecone API key should be provided when creating the Domino Data Source and persisted securely.\n",
    "# This api_key variable here is only used for satisfying the native pinecone python client initialization where\n",
    "# api_key is a mandatory non-empty field.\n",
    "api_key = os.environ.get(\"DOMINO_VECTOR_DB_METADATA\", datasource_name)\n",
    "\n",
    "pinecone.init(\n",
    "    api_key=api_key,\n",
    "    environment=PINECONE_ENV,\n",
    "    openapi_config=conf)"
   ]
  },
  {
   "cell_type": "code",
   "execution_count": 9,
   "id": "582d6726-ca98-48ef-9665-6d420211a990",
   "metadata": {
    "tags": []
   },
   "outputs": [],
   "source": [
    "# Previously created index\n",
    "index_name = \"mrag-fin-docs\"\n",
    "index = pinecone.Index(index_name)"
   ]
  },
  {
   "cell_type": "code",
   "execution_count": 10,
   "id": "7d73d9ca-2f92-4dfc-bc8d-c62bac11c88f",
   "metadata": {
    "tags": []
   },
   "outputs": [
    {
     "data": {
      "text/plain": [
       "{'dimension': 1536,\n",
       " 'index_fullness': 0.0,\n",
       " 'namespaces': {},\n",
       " 'total_vector_count': 0}"
      ]
     },
     "execution_count": 10,
     "metadata": {},
     "output_type": "execute_result"
    }
   ],
   "source": [
    "index.describe_index_stats()"
   ]
  },
  {
   "cell_type": "code",
   "execution_count": 11,
   "id": "a157a32a-4977-4b07-b55a-6a2ad61570bd",
   "metadata": {
    "tags": []
   },
   "outputs": [
    {
     "name": "stderr",
     "output_type": "stream",
     "text": [
      "/usr/local/lib/python3.10/dist-packages/langchain_community/vectorstores/pinecone.py:68: UserWarning: Passing in `embedding` as a Callable is deprecated. Please pass in an Embeddings object instead.\n",
      "  warnings.warn(\n"
     ]
    }
   ],
   "source": [
    "docsearch = Pinecone.from_texts([d.page_content for d in data], embed.embed_query, index_name=index_name)"
   ]
  },
  {
   "cell_type": "code",
   "execution_count": 12,
   "id": "09d6b5c8-d7a9-4164-a6ee-8f08e53a068b",
   "metadata": {
    "tags": []
   },
   "outputs": [],
   "source": [
    "# Ask your query\n",
    "query = \"How did the Americas do in net sales in FY23?\" #\"What is the expected effective tax rate for Apple in FY23?\"\n",
    "# Get the closest matches to create some context and information for the answer\n",
    "docs = docsearch.similarity_search(query)"
   ]
  },
  {
   "cell_type": "code",
   "execution_count": 13,
   "id": "0af7b0c1-6006-4b6b-951b-b6ce88160b25",
   "metadata": {
    "tags": []
   },
   "outputs": [
    {
     "name": "stdout",
     "output_type": "stream",
     "text": [
      "[Document(page_content='income before provision for income taxes for 2023, 2022 and 2021, is as follows (dollars in millions):\\n2023 2022 2021\\nComputed expected tax $ 23,885 $ 25,012 $ 22,933 \\nState taxes, net of federal ef fect 1,124 1,518 1,151 \\nEarnings of foreign subsidiaries (5,744) (4,366) (4,715)\\nResearch and development credit, net (1,212) (1,153) (1,033)\\nExcess tax benefits from equity awards (1,120) (1,871) (2,137)\\nForeign-derived intangible income deduction — (296) (1,372)\\nOther (192) 456 (300)\\nProvision for income taxes $ 16,741 $ 19,300 $ 14,527 \\nEffective tax rate 14.7 % 16.2 % 13.3 %\\nApple Inc. | 2023 Form 10-K | 40'), Document(page_content='effective tax rate. In accounting for some of the uncertain tax positions, Apple Inc. uses significant judgment in the\\ninterpretation and application of complex domestic and international tax laws.\\nAuditing management’ s evaluation of whether an uncertain tax position is more likely than not to be sustained and\\nthe measurement of the benefit of various tax positions can be complex, involves significant judgment, and is based\\non interpretations of tax laws and legal rulings.\\nApple Inc. | 2023 Form 10-K | 49'), Document(page_content='Provision for income taxes 16,741 19,300 14,527 \\nNet income $ 96,995 $ 99,803 $ 94,680 \\nEarnings per share:\\nBasic $ 6.16 $ 6.15 $ 5.67 \\nDiluted $ 6.13 $ 6.11 $ 5.61 \\nShares used in computing earnings per share:\\nBasic 15,744,231 16,215,963 16,701,272 \\nDiluted 15,812,547 16,325,819 16,864,919 \\nSee accompanying Notes to Consolidated Financial Statements.\\nApple Inc. | 2023 Form 10-K | 28'), Document(page_content='Provision for Income T axes\\nProvision for income taxes, ef fective tax rate and statutory federal income tax rate for 2023, 2022 and 2021 were as follows (dollars in millions):\\n2023 2022 2021\\nProvision for income taxes $ 16,741 $ 19,300 $ 14,527 \\nEffective tax rate 14.7 % 16.2 % 13.3 %\\nStatutory federal income tax rate 21 % 21 % 21 %\\nThe Compan y’s effective tax rate for 2023 and 2022 was lower than the statutory federal incom e tax rate due primarily to a lower effective tax rate on foreign\\nearnings, the impact of the U.S. federal R&D credit, and tax benefits from share-based compensation, partially of fset by state income taxes.\\nThe Company’ s effective tax rate for 2023 was lower compared to 2022 due primarily to a lower effective tax rate on foreign earnings and the impact of U.S.\\nforeign tax credit regulations issued by the U.S. Department of the Treasury in 2022, partially of fset by lower tax benefits from share-based compensation.\\nLiquidity and Capital Resources')]\n"
     ]
    }
   ],
   "source": [
    "print(docs)"
   ]
  },
  {
   "cell_type": "code",
   "execution_count": null,
   "id": "40f1dbb2-af18-4546-8043-4a870ccc9ec2",
   "metadata": {},
   "outputs": [],
   "source": []
  }
 ],
 "metadata": {
  "kernelspec": {
   "display_name": "Python 3 (ipykernel)",
   "language": "python",
   "name": "python3"
  },
  "language_info": {
   "codemirror_mode": {
    "name": "ipython",
    "version": 3
   },
   "file_extension": ".py",
   "mimetype": "text/x-python",
   "name": "python",
   "nbconvert_exporter": "python",
   "pygments_lexer": "ipython3",
   "version": "3.10.12"
  }
 },
 "nbformat": 4,
 "nbformat_minor": 5
}
