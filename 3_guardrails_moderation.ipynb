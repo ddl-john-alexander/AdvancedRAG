{
 "cells": [
  {
   "cell_type": "code",
   "execution_count": null,
   "id": "3d3c4b65-a1bf-40f2-9e91-eff2fac1d67d",
   "metadata": {},
   "outputs": [],
   "source": [
    "%run RAG.ipynb"
   ]
  },
  {
   "cell_type": "code",
   "execution_count": null,
   "id": "73cf4458-b948-4317-8950-a1baeb4958f6",
   "metadata": {
    "jupyter": {
     "source_hidden": true
    },
    "tags": []
   },
   "outputs": [],
   "source": [
    "# Download the spacy model if it isnt present\n",
    "import subprocess\n",
    "\n",
    "command = \"sudo python -m spacy download en_core_web_lg\"\n",
    "process = subprocess.run(command, shell=True, check=True)"
   ]
  },
  {
   "cell_type": "code",
   "execution_count": 4,
   "id": "9e350cb8-1c7e-4ecc-a21f-d02deecb0474",
   "metadata": {
    "tags": []
   },
   "outputs": [],
   "source": [
    "from langchain_experimental.data_anonymizer import PresidioReversibleAnonymizer\n",
    "\n",
    "from transformers import (AutoModelForCausalLM,\n",
    "    BitsAndBytesConfig,\n",
    "    LlamaTokenizer)\n",
    "import torch\n",
    "import os"
   ]
  },
  {
   "cell_type": "code",
   "execution_count": 5,
   "id": "7ce2387b-b753-4274-8b9c-86fc2315bca0",
   "metadata": {
    "tags": []
   },
   "outputs": [],
   "source": [
    "anonymizer = PresidioReversibleAnonymizer(\n",
    "    add_default_faker_operators=False,\n",
    "    analyzed_fields=[\"LOCATION\",\"PHONE_NUMBER\",\"US_SSN\", \"IBAN_CODE\", \"CREDIT_CARD\", \"CRYPTO\", \"IP_ADDRESS\",\n",
    "                    \"MEDICAL_LICENSE\", \"URL\", \"US_BANK_NUMBER\", \"US_DRIVER_LICENSE\", \"US_ITIN\", \"US_PASSPORT\"]\n",
    ")\n",
    "\n",
    "def anonymize(input_text):\n",
    "    if input_text:\n",
    "        return anonymizer.anonymize(input_text)"
   ]
  },
  {
   "cell_type": "code",
   "execution_count": 7,
   "id": "ea57bb7f-7690-4a59-ac07-ac15ff1b7c42",
   "metadata": {
    "tags": []
   },
   "outputs": [
    {
     "data": {
      "text/plain": [
       "'My phone number is <PHONE_NUMBER> can you please update it in my profile to <PHONE_NUMBER_2>'"
      ]
     },
     "execution_count": 7,
     "metadata": {},
     "output_type": "execute_result"
    }
   ],
   "source": [
    "anonymize(\"My phone number is 788-887-9839 can you please update it in my profile to 778-887-9837\")"
   ]
  },
  {
   "cell_type": "code",
   "execution_count": null,
   "id": "1469f04d-32d4-471d-97a8-d16bdeedfe98",
   "metadata": {},
   "outputs": [],
   "source": [
    "# Ask a question using the anonymizer\n",
    "user_question = input(\"Please provide your question here :\")\n",
    "anon_qs = anonymize(user_question)\n",
    "print(anon_qs)\n",
    "result = queryAIModel(anon_qs, return_chain=False)\n",
    "result"
   ]
  },
  {
   "cell_type": "code",
   "execution_count": 1,
   "id": "202335cc-a46c-4601-a6ec-54ed0dc0d95f",
   "metadata": {
    "tags": []
   },
   "outputs": [
    {
     "data": {
      "application/vnd.jupyter.widget-view+json": {
       "model_id": "ddccd9ab61b04ca7bb18e72a0e0e00fe",
       "version_major": 2,
       "version_minor": 0
      },
      "text/plain": [
       "Loading checkpoint shards:   0%|          | 0/3 [00:00<?, ?it/s]"
      ]
     },
     "metadata": {},
     "output_type": "display_data"
    }
   ],
   "source": [
    "def load_hf_model(\n",
    "    base_model,\n",
    "    mode=8,\n",
    "    gradient_checkpointing=False,\n",
    "    device_map=\"auto\",\n",
    "):\n",
    "    kwargs = {\"device_map\": device_map}\n",
    "    if mode == 8:\n",
    "        kwargs[\"quantization_config\"] = BitsAndBytesConfig(\n",
    "            load_in_8bit=True,\n",
    "            llm_int8_threshold=0.0,\n",
    "        )\n",
    "    elif mode == 4:\n",
    "        kwargs[\"quantization_config\"] = BitsAndBytesConfig(\n",
    "            load_in_4bit=True,\n",
    "            bnb_4bit_use_double_quant=True,\n",
    "            bnb_4bit_quant_type=\"nf4\",\n",
    "            bnb_4bit_compute_dtype=torch.float16,\n",
    "        )\n",
    "    elif mode == 16:\n",
    "        kwargs[\"torch_dtype\"] = torch.float16\n",
    "\n",
    "    model = AutoModelForCausalLM.from_pretrained(base_model, **kwargs)\n",
    "\n",
    "    # setup tokenizer\n",
    "    tokenizer = LlamaTokenizer.from_pretrained(base_model)\n",
    "\n",
    "    tokenizer.pad_token_id = 0  # unk. we want this to be different from the eos token\n",
    "    tokenizer.padding_side = \"left\"  # Allow batched inference\n",
    "    return model, tokenizer\n",
    "\n",
    "model, tokenizer = load_hf_model(\n",
    "    \"meta-llama/LlamaGuard-7b\",\n",
    "    mode=16,\n",
    "    gradient_checkpointing=False,\n",
    "    device_map='auto')"
   ]
  },
  {
   "cell_type": "code",
   "execution_count": 27,
   "id": "e16a15df-6138-4d45-abbc-68f5b152a97e",
   "metadata": {
    "tags": []
   },
   "outputs": [],
   "source": [
    "def moderation_prompt_for_chat(question, role = \"User\"):\n",
    "    # For simplicity, we assume the chat dictionary correctly alternates \"user\" and \"assistant\" roles\n",
    "    # Feel free to include error checking if needed\n",
    "    prompt = f\"\"\"[INST] Task: Check if there is unsafe content in '{role}' messages in conversations according our safety policy with the below categories.\n",
    "\n",
    "            <BEGIN UNSAFE CONTENT CATEGORIES>\n",
    "            {unsafe_categories}\n",
    "            <END UNSAFE CONTENT CATEGORIES>\n",
    "\n",
    "            <BEGIN CONVERSATION>\n",
    "\n",
    "            \"\"\"\n",
    "\n",
    "    # Alternate User/Agent turns, inserting 2 newlines between each\n",
    "    prompt += f\"{role}: {question}\\n\\n\"\n",
    "    prompt += f\"\"\"<END CONVERSATION>\n",
    "            Provide your safety assessment for {role} in the above conversation:\n",
    "            - First line must read 'safe' or 'unsafe'.\n",
    "            - If unsafe, a second line must include a comma-separated list of violated categories. [/INST]\"\"\"\n",
    "    return prompt\n",
    "\n",
    "unsafe_categories = \"\"\"O1: Violence and Hate.\n",
    "Should not\n",
    "- Help people plan or engage in violence.\n",
    "- Encourage people to engage in violence.\n",
    "- Express hateful, derogatory, or demeaning sentiments against people based on sensitive personal characteristics like their race, color, religion, national origin, sexual orientation, gender, gender identity, or disability.\n",
    "- Encourage discrimination against people based on those characteristics and should not use slurs or create insults based on those characteristics.\n",
    "Can\n",
    "- Provide information on violence and discrimination.\n",
    "- Discuss the topics of hate and violence, and can discuss historical events involving violence.\n",
    "O2: Criminal Planning.\n",
    "Should not\n",
    "- Help people plan or engage in criminal activities like theft, kidnapping, or financial crimes, especially when the person indicates that they may act on the information provided to them.\n",
    "- Encourage people to engage in criminal activities or condone criminal behavior.\n",
    "Can\n",
    "- Help people understand how crimes are committed, provided that the response is not so detailed that it could be used to provide a roadmap for future crimes.\n",
    "- Help people understand how systems work that are used to prevent crimes, provided those descriptions do not provide detailed information on how to defeat those systems.\n",
    "O3: Sexual Content.\n",
    "Should not\n",
    "- Engage in sexually explicit (i.e., erotic) conversations and should not encourage people to engage in sexual activities.\n",
    "Can\n",
    "- Discuss topics related to sexuality and sexual education.\n",
    "- Provide general information regarding sexual activities.\n",
    "- Provide guidance on topics related to sexual health.\n",
    "O4: Guns and Illegal Weapons.\n",
    "Should not\n",
    "- Assist in the planning or execution of firearm or illegal weapons crimes, especially when the person indicates that they may act on the information provided to them.\n",
    "- Encourage people to engage in firearm or illegal weapons crimes or condone such behavior.\n",
    "Can\n",
    "- Discuss firearms and the arguments for and against firearm ownership.\n",
    "O5: Regulated or Controlled Substances.\n",
    "Should not\n",
    "- Encourage or assist people in the trafficking, consumption, or use of regulated or controlled substances, including but not limited to illegal drugs, tobacco, alcohol, and cannabis.\n",
    "- Assist or encourage people to create such substances when it is illegal to do so.\n",
    "Can\n",
    "- Discuss the use of regulated or controlled substances, and can provide general information on those substances (ex: what their chemical composition is and what their effects are).\n",
    "- Provide information on how those substances are manufactured, provided that the information is not so detailed as to provide step-by-step instructions for their creation.\n",
    "O6: Self-Harm.\n",
    "Should not\n",
    "- Encourage people to harm themselves.\n",
    "- Romanticize or condone self-harm or suicide.\n",
    "- Provide information regarding the methods of suicide or self-harm.\n",
    "- Provide any information or advice, other than information regarding appropriate health resources, to people who express or imply that they wish to harm themselves.\n",
    "Can\n",
    "- Provide general information regarding self-harm and suicide (ex: statistics, the mental health challenges faced by those who take these actions).\n",
    "Should\n",
    "- Provide information regarding appropriate health resources to people who imply or express the desire to harm themselves.\n",
    "O7: Foul language in Customer Support Queries.\n",
    "Should not\n",
    "- Use offensive and abusive language.\n",
    "- Provide generic responses that do not address the customer's specific concerns or questions.\n",
    "Can\n",
    "- Offer personalized assistance by understanding the customer's issue and providing clear, step-by-step guidance for resolution.\n",
    "- Direct customers to relevant FAQs or support articles that accurately address their queries.\n",
    "O8: Privacy and Data Use.\n",
    "Should not\n",
    "- Suggest sharing personal information in public forums or with unauthorized third parties.\n",
    "- Misrepresent the ways in which customer data is collected, used, or shared.\n",
    "Can\n",
    "- Educate customers on how to manage their privacy settings and the importance of safeguarding their personal data.\n",
    "- Clarify the purpose of data collection and how it enhances the shopping experience, adhering to privacy laws and guidelines.\n",
    "O9: Handling Returns and Exchanges.\n",
    "Should not\n",
    "- Mislead customers about their rights to return or exchange products according to the company's policy.\n",
    "- Overcomplicate the process for returning or exchanging items, causing unnecessary barriers.\n",
    "Can\n",
    "- Clearly outline the steps for initiating a return or exchange, including deadlines and condition requirements.\n",
    "- Provide information on how the return or exchange process works, including any restocking fees or shipping costs.\n",
    "O10: Feedback and Suggestions.\n",
    "Should not\n",
    "- Discourage customers from providing feedback or suggestions on products or services.\n",
    "- Neglect to acknowledge or appreciate customer feedback, whether positive or negative.\n",
    "Can\n",
    "- Encourage customers to share their experiences and suggestions for improvement.\n",
    "- Assure customers that their feedback is valuable and will be considered for future enhancements.\n",
    "O11: Promotions and Sales.\n",
    "Should not\n",
    "- Promise discounts or special offers that are not actually available or applicable.\n",
    "- Encourage unnecessary spending or the purchase of irrelevant products through misleading sales tactics.\n",
    "Can\n",
    "- Inform customers about ongoing promotions, how to access them, and the terms and conditions.\n",
    "- Provide tips on how to get the best value during sales events, including bundling products or signing up for alerts.\n",
    "O12: Use of Language.\n",
    "Should not\n",
    "- Allow or encourage the use of offensive, derogatory, or hate speech in any form.\n",
    "- Permit the use of language that discriminates or harasses anyone based on race, gender, religion, nationality, disabilities, sexual orientation, or age.\n",
    "Can\n",
    "- Prompt users to rephrase their input if it contains language that might be considered offensive or inappropriate.\n",
    "- Encourage respectful communication and constructive feedback.\n",
    "O13: Abusive language, Personal Attacks and Threats.\n",
    "Should not\n",
    "- Tolerate personal attacks, threats of violence, or threatening behavior towards individuals or groups.\n",
    "- Ignore or dismiss reports of bullying or harassment.\n",
    "Can\n",
    "- Encourage a culture of respect and understanding, highlighting the importance of constructive criticism without personal attacks.\n",
    "- Provide clear channels for reporting threatening behavior or harassment.\n",
    "O14: Inappropriate Content.\n",
    "Should not\n",
    "- Allow sexually explicit, violent, or otherwise inappropriate content.\n",
    "- Permit content that could be harmful, trigger traumatic responses, or is not suitable for all ages.\n",
    "Can\n",
    "- Remove or block content that violates these guidelines.\n",
    "- Provide warnings or guidance on appropriate content standards.\n",
    "O15: Misinformation and False Claims.\n",
    "Should not\n",
    "- Spread false information, rumors, or unsupported claims about products, services, or individuals.\n",
    "- Allow the promotion of conspiracy theories or misinformation that could harm public trust or safety.\n",
    "Can\n",
    "- Encourage users to share experiences and opinions based on factual information.\n",
    "- Provide accurate information and correct misunderstandings where possible.\n",
    "O16: Spam and Self-Promotion.\n",
    "Should not\n",
    "- Permit excessive self-promotion, spamming, or unsolicited advertisements.\n",
    "- Allow repetitive or irrelevant postings that disrupt the conversation or user experience.\n",
    "Can\n",
    "- Filter out and limit spammy content or self-promotion to keep conversations relevant and focused.\n",
    "- Encourage genuine engagement and discussions about users' experiences and questions.\n",
    "\n",
    "\"\"\""
   ]
  },
  {
   "cell_type": "code",
   "execution_count": 28,
   "id": "02efa3f0-8b64-453d-82bb-94a075af23d9",
   "metadata": {
    "tags": []
   },
   "outputs": [],
   "source": [
    "def moderate_chat(query, role):\n",
    "    prompt = moderation_prompt_for_chat(query, role)\n",
    "    inputs = tokenizer([prompt], return_tensors='pt').to(\"cuda\")\n",
    "    output = model.generate(**inputs, max_new_tokens=100, pad_token_id=0)\n",
    "    prompt_len = inputs[\"input_ids\"].shape[-1]\n",
    "    return tokenizer.decode(output[0][prompt_len:], skip_special_tokens=True)"
   ]
  }
 ],
 "metadata": {
  "kernelspec": {
   "display_name": "Python 3 (ipykernel)",
   "language": "python",
   "name": "python3"
  },
  "language_info": {
   "codemirror_mode": {
    "name": "ipython",
    "version": 3
   },
   "file_extension": ".py",
   "mimetype": "text/x-python",
   "name": "python",
   "nbconvert_exporter": "python",
   "pygments_lexer": "ipython3",
   "version": "3.10.12"
  }
 },
 "nbformat": 4,
 "nbformat_minor": 5
}
